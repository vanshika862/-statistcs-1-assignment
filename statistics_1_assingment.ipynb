{
  "nbformat": 4,
  "nbformat_minor": 0,
  "metadata": {
    "colab": {
      "provenance": []
    },
    "kernelspec": {
      "name": "python3",
      "display_name": "Python 3"
    },
    "language_info": {
      "name": "python"
    }
  },
  "cells": [
    {
      "cell_type": "markdown",
      "source": [
        "# Theory Questions"
      ],
      "metadata": {
        "id": "5jhqT8OKWLx2"
      }
    },
    {
      "cell_type": "markdown",
      "source": [
        "Q1 what is statistics and why is it important?\n",
        "\n",
        "Ans- Statistics is the branch of mathematics that deals with collecting , organising , analysing , interpreting and presenting data. it helps to understand patterns , trends and relationships in data , allowing us to make informed decisions\n",
        "\n",
        "* Importance:-\n",
        "\n",
        "1) Decision  Making- helps im making evidence based decisons in feilds like business medicine, education and government\n",
        "\n",
        "2) Data analysis - allows us to understand large amounts of data by summarizing it\n",
        "\n",
        "3) Plicy making - government use statistics to understnad population trends, economic performance and health indicators\n",
        "\n",
        "4)Scientific research - In research statistical methods test hpothesis and validate results\n",
        "\n",
        "5)Understanding variability - statistics helps explain why and how data varies which is cruial in quality control"
      ],
      "metadata": {
        "id": "3nIt1oYAWQwl"
      }
    },
    {
      "cell_type": "markdown",
      "source": [
        "Q2 what are two main types of statistics?\n",
        "\n",
        "ans- Two main types of statistcs are\n",
        "\n",
        "1) descriptive statistics :- summarise and organise data so it can be easily understood  , to describe the basic feature of dataset what that data shows\n",
        "\n",
        "* measures central tendencies\n",
        "\n",
        "* measures of dispersion\n",
        "\n",
        "* charts and graphs\n",
        "\n",
        "2) Inferential statistics:- mak epredictions or generalisations about a population based on sapmle of data , to draw conculusions beyong the immediate data available\n",
        "\n",
        "* hypothesis testing\n",
        "\n",
        "* confidnce intercals\n",
        "\n",
        "* regression analysis\n",
        "\n",
        "* ANOVA\n"
      ],
      "metadata": {
        "id": "YYy9b8-WYEcT"
      }
    },
    {
      "cell_type": "markdown",
      "source": [
        "Q3  what is descriptive  statistics\n",
        "\n",
        "ans-descriptive statistics ia branch of statistis that deals with summarizing and oganising data in a menaingful way . it provides simple summaries about the samp,es and measures often iin the form of\n",
        "\n",
        "1) Measures of central tendency - these describes the centre point of typical value of dataset\n",
        "\n",
        "* mean\n",
        "\n",
        "* median\n",
        "\n",
        "* mode\n",
        "\n",
        "2) Measures of dispersion - thse describe the spread of the data\n",
        "\n",
        "* range\n",
        "\n",
        "* variance\n",
        "\n",
        "* dtandard deviation\n",
        "\n",
        "* interquartile range\n",
        "\n",
        "3) Measures of position indicate the relative standing value\n",
        "\n",
        "* percentiles\n",
        "\n",
        "* quartiles\n",
        "\n",
        "4) Data visualization tools- used to visually summarise the data\n",
        "\n",
        "* graphs\n",
        "\n",
        "* box plots\n",
        "\n",
        "* frequency tables"
      ],
      "metadata": {
        "id": "r2T-sQlCZYtJ"
      }
    },
    {
      "cell_type": "markdown",
      "source": [
        "Q4 what  is infrential statistics?\n",
        "\n",
        "ans inferential statistcs - it ios branmch of syatistics that deals on fcusing onmaking predications based on sample of data taken from popoulation\n",
        "\n",
        "features-\n",
        "\n",
        "* sampling data\n",
        "\n",
        "* generalisation\n",
        "\n",
        "* probability\n",
        "\n",
        "* hypothesis testing"
      ],
      "metadata": {
        "id": "pG4HFtcTc2Ed"
      }
    },
    {
      "cell_type": "markdown",
      "source": [
        "Q5 what is sampling in statistics ?\n",
        "\n",
        "ans-  sampling in statistcs  is the process of selectibg of individuals or observations fromlarger group to analyse and draw conclusions about the whole population\n",
        "\n",
        "#Importance\n",
        "\n",
        "* efficiency- its often impracticcal to collect data from an entire population\n",
        "\n",
        "* speed - sampling allows researchers tp obatin results faster\n",
        "\n",
        "* feasibility - somethimes its the only way to gather data\n",
        "\n"
      ],
      "metadata": {
        "id": "jkNRBoBvdgg8"
      }
    },
    {
      "cell_type": "markdown",
      "source": [
        "Q6 what are different types of sampling method\n",
        "\n",
        "ans - types of sampling methods\n",
        "\n",
        "1) Probability sampling\n",
        "\n",
        "* simple random sampling :- every memeber has an equal chance of being selected\n",
        "\n",
        "* Systematic sampling :- Every kth item is selected from a list\n",
        "\n",
        "* stratiffiedd sampling :- Population is divided into groups  and samples are taken from ecah group\n",
        "\n",
        "* cluster sampling :- population is divided into cluster and entire clusters are randomly slected\n",
        "\n",
        "2)non probability sampling\n",
        "\n",
        "* convenience sampling :- using the most accessible subjects\n",
        "\n",
        "* judgemental sampling :- selected based on the researchers judgement\n",
        "\n",
        "* quota sampling :- ensuring certain characteristics are represented\n",
        "\n",
        "* snowball sampling existing subjects recruit future subjects\n",
        "\n"
      ],
      "metadata": {
        "id": "3choSknVeaaS"
      }
    },
    {
      "cell_type": "markdown",
      "source": [
        "Q7 what is the difference between random and non random sampling\n",
        "\n",
        "ans-1) random sampling:- every individual in population has known and equal chances of being selected\n",
        "\n",
        "* based on chance\n",
        "\n",
        "* results are more representative of the population\n",
        "\n",
        "* allows use of statistical theory to make influence\n",
        "\n",
        "examples:-\n",
        "\n",
        "* simple random sampling\n",
        "\n",
        "* systematic sampling\n",
        "\n",
        "* stratified sampling\n",
        "\n",
        "* cluster sampling\n",
        "\n",
        "advantages:-\n",
        "\n",
        "*reduces selection bias\n",
        "\n",
        "* easier to generalise results tot he populaion\n",
        "\n",
        "\n",
        "2) non random sampling:-  not all individuals have known or equal chance pf being selected the selection may be based on subjective judgement convienece, or availibilty\n",
        "\n",
        "* not based on pure chance\n",
        "* more pron eto bias\n",
        "* often used whwn random sampling isnt feasible\n",
        "\n",
        "examples:-\n",
        "\n",
        "* conveinence sampling\n",
        "\n",
        "* judgemental sampling\n",
        "\n",
        "* quota sampling\n",
        "\n",
        "* snowball sampling\n",
        "\n",
        "advantages:-\n",
        "\n",
        "* quick and inexpensive\n",
        "\n",
        "* useful in exploratory or hard to reach populations"
      ],
      "metadata": {
        "id": "LSfVXLSofzLR"
      }
    },
    {
      "cell_type": "markdown",
      "source": [
        "Q8 define and give examples of qualtitatve and quantitative data\n",
        "\n",
        "ans-1) qualitative data:- describs qualities and characteristics it id non numerical and often grouped into categories or lables\n",
        "\n",
        "examples:-\n",
        "colors - red , blue\n",
        "\n",
        "gender - male , femalea\n",
        "\n",
        "eye color -brown hazel\n",
        "\n",
        "types of qualitative data\n",
        "\n",
        "* nominal\n",
        "\n",
        "* ordinal\n",
        "\n",
        "2)Quantitative data :- measures numerical values it can be used for calculations\n",
        "\n",
        "examples:-\n",
        "\n",
        "age - 12,20\n",
        "height - 165cm 146cm\n",
        "\n",
        "income - 75,000 , 25,000\n",
        "\n",
        "tpes of quantitative data\n",
        "\n",
        "* discrete\n",
        "\n",
        "* contionus\n"
      ],
      "metadata": {
        "id": "ln0NiR8ohfFf"
      }
    },
    {
      "cell_type": "markdown",
      "source": [
        "Q9 what are different types of data in statisctcs\n",
        "\n",
        "ans:- qualitative data :- describes atrributes or categories\n",
        "\n",
        "* nominal data\n",
        "* orinal data\n",
        "\n",
        "Quantitative data:- represents measurable quantities\n",
        "\n",
        "* discreate data\n",
        "\n",
        "* continous data\n"
      ],
      "metadata": {
        "id": "DjCs45NjjDS8"
      }
    },
    {
      "cell_type": "markdown",
      "source": [
        "Q10 explain nominal , ordinal , interval and ratio levels of measuremenet\n",
        "\n",
        "ans-1) nominal level:- categorical data without any natural order or ranking\n",
        "\n",
        "* lables or name sonly\n",
        "\n",
        "* cannot be orcerd or measured\n",
        "\n",
        "* arthmetic operations are not meaningful\n",
        "\n",
        "Examples:-\n",
        "\n",
        "*gender - male female other\n",
        "\n",
        "* hair - blcak brown\n",
        "\n",
        "* country - usa , India\n",
        "\n",
        "2) Ordinal level:- meaningful order but no precise differencesbetween values\n",
        "\n",
        "* can be rankd or derderd\n",
        "\n",
        "* differences ranks are not measurable\n",
        "\n",
        "*   median , mode are valid but not mean\n",
        "\n",
        "Examples:-\n",
        "\n",
        "* customer satifaction\n",
        "\n",
        "* education level\n",
        "\n",
        "* socioeconomic status\n",
        "\n",
        "3)Interval level:- numerical data with equal intervals between values but no true xero points\n",
        "\n",
        "* difference are meaningful\n",
        "\n",
        "* ratios are not meaningful\n",
        "\n",
        "examples:-\n",
        "\n",
        "* temperature\n",
        "\n",
        "*dates\n",
        "\n",
        "*iq scores\n",
        "\n",
        "4) ratio level:- numerical data with true zerp allowing foor all mathematical operations\n",
        "\n"
      ],
      "metadata": {
        "id": "4lHjpK5Ol4EY"
      }
    },
    {
      "cell_type": "markdown",
      "source": [
        "Q11 what is the measure of central tendency?\n",
        "\n",
        "ans- measure of central tendency is a statistical concept used to describe the center or average of data set It helps summarize a large set of data with a single reprentative value\n",
        "\n",
        "three main central tendency are\n",
        "\n",
        "* mean\n",
        "* median\n",
        "* mode\n",
        "\n",
        "the measure help to describe the central point of distribution and are widely used in data analysis and statistics"
      ],
      "metadata": {
        "id": "iv43wUhgasrz"
      }
    },
    {
      "cell_type": "markdown",
      "source": [
        "Q12 define mean median mode?\n",
        "\n",
        "ans- 1) mean :- arithmetic average\n",
        "\n",
        "* it is the sum of all values divided by the number of values\n",
        "\n",
        "* mean = x1 +x2+x3/3\n",
        "\n",
        "2) median :- it is the middle value when the data set is orderd from smallest to largest\n",
        "\n",
        "if the number of values is odd the meedian is the middle number\n",
        "\n",
        "if even it is average of the two middle number\n",
        "\n",
        "3)  it is the value that apperas most frequently in the data set\n",
        "\n",
        "a set have no mode, one mode, or multiple mode"
      ],
      "metadata": {
        "id": "Js6RiclJbgeK"
      }
    },
    {
      "cell_type": "markdown",
      "source": [
        "Q13 what is the sidnificance of meassure of central tendency?\n",
        "\n",
        "ans:- 1) simplify data interpretation\n",
        "\n",
        "* reduces a large amount of data to a single number\n",
        "\n",
        "2) helps in comparison\n",
        "\n",
        "* allows for comparison between different data sets\n",
        "\n",
        "3)assists in decision making\n",
        "\n",
        "* central values guide policy making business strategy and sciebtific research\n",
        "\n",
        "4) forms the basis for other statistical methods\n",
        "\n",
        "* mean, median , mode are foundational for more advanced analysys like variance standard deviation regression\n",
        "\n",
        "5) indentifies typical or common values\n",
        "\n",
        "* the mode helps identfy the most frequently occuring item , useful in inventory or trend analysis"
      ],
      "metadata": {
        "id": "HQK8i3I8cm-x"
      }
    },
    {
      "cell_type": "markdown",
      "source": [
        " Q14 what is variance and how is it calculated\n",
        "\n",
        " ans;- variance is statistical measure that indicates how much the values  in a data set deviate from the mean  it shows the spread or dispersion of the data\n",
        "\n",
        " a high variance means data points are widely spread\n",
        "\n",
        "a lowvariance means data points are close to mean\n",
        "\n",
        "steps to fine variance:-\n",
        "\n",
        "1) fond the mean\n",
        "\n",
        "2) find squaraed deviations from the mean\n",
        "\n",
        "3)sum of squared deviations\n",
        "\n",
        "\n"
      ],
      "metadata": {
        "id": "iNSybOwVduaI"
      }
    },
    {
      "cell_type": "markdown",
      "source": [
        "Q15 what is standard deviation and why is it important?\n",
        "\n",
        "ans:-stanadrad deviation is measure of the dispersion or spread of set of data values it tells you how much the values deviate  from the mean\n",
        "\n",
        "importance:-\n",
        "\n",
        "* measures variability\n",
        "\n",
        "* helps in comparing data\n",
        "\n",
        "* used in normal distribution\n",
        "\n",
        "* essential in finance\n",
        "\n",
        "* basis for z scores\n",
        "\n",
        "* supports hypothesis testing"
      ],
      "metadata": {
        "id": "jYArUDLJeoaH"
      }
    },
    {
      "cell_type": "markdown",
      "source": [
        "Q16 define and explain term range in statistics?\n",
        "\n",
        "ans:-the range is th esimplest measure of dispersion in data set . it tells you how spred out the values arae by calculating the difference between the largest and smallest values\n",
        "\n",
        "singnifance:-\n",
        "\n",
        "* measures of spread\n",
        "\n",
        "* easy to calculate\n",
        "\n",
        "* useful for detecting outliers"
      ],
      "metadata": {
        "id": "VQMKGSSofRl-"
      }
    },
    {
      "cell_type": "markdown",
      "source": [
        "Q17 what is the difference bewtween variance and standard deviation ?\n",
        "\n",
        "anss:-both variance and satndard deviation measure how spread out or dipsersed the data is around the mean but they differ in how they express this spread\n",
        "\n",
        "variance:\n",
        "\n",
        "* average off the squared difference from the mean\n",
        "\n",
        "* square of the original unists\n",
        "\n",
        "* less intuitive due o aquared units\n",
        "\n",
        "* intermediatae calculation for standard deviation\n",
        "\n",
        "standaed deviation:-\n",
        "\n",
        "*  square oot of the variance\n",
        "\n",
        "* same as original data units\n",
        "\n",
        "* easier to interpret as it matches the scale of the data\n",
        "\n",
        "* final measure for data spread"
      ],
      "metadata": {
        "id": "MxTS8NTHgDUv"
      }
    },
    {
      "cell_type": "markdown",
      "source": [
        "Q18  what is sknewness in data set?\n",
        "\n",
        "ans:- sknewness i statistical measure that describes the asymmetry or lack of symmetry in the distribution of data\n",
        "\n",
        " in perfectly symmetrical distribution the mean , medin , mode are equal and sknewness is zer\n",
        "\n",
        " * helps to identify outliers and extreme\n",
        "\n",
        " *affects the choice of statistical methods\n",
        "\n",
        " * influence mean and median comparisons\n",
        "\n",
        " * helps in data transformation decisions before analysis"
      ],
      "metadata": {
        "id": "evMV1ss7jkX4"
      }
    },
    {
      "cell_type": "markdown",
      "source": [
        "Q19 whta does it mean if dataset is positively and negatively skeweed?\n",
        "\n",
        "ans:-  positively skewed distribution\n",
        "*  the tail is longer on the right side\n",
        "\n",
        "* most data values are clusterd on the lower ed\n",
        "\n",
        "* a alrge outliers pull the mean to the right\n",
        "\n",
        "* mean> median\n",
        "\n",
        "* median> mode\n",
        "\n",
        "negatively skewed distribution:-\n",
        "\n",
        "* the tail is longer on he left side\n",
        "\n",
        "* most data vakues are clusterd on the higher end\n",
        "\n",
        "* a few samll outliers pull the mean to the left\n",
        "\n",
        "* mean < median\n",
        "* median< mode\n"
      ],
      "metadata": {
        "id": "WWftI-aFkijv"
      }
    },
    {
      "cell_type": "markdown",
      "source": [
        "Q20 define and explain kurtosis\n",
        "\n",
        "ans: detect the risk of extreeme values or outliers\n",
        "\n",
        "* helps on financial mondeling , quality conrtol, and reliability engineering\n",
        "\n",
        "* influences which statistical methods are appropriate\n",
        "\n",
        "kurtosis is astatistical measure that describes tha shape of distribution tails in relation to its overall shape, particularly comapred to normal distribution\n",
        "\n"
      ],
      "metadata": {
        "id": "y0pa43CDlpeQ"
      }
    },
    {
      "cell_type": "markdown",
      "source": [
        "Q21 what is purpose of covariance\n",
        "\n",
        "ans:- covarinace is a statistical measure that indicates the direction of the linear relationship betwen two varaibales\n",
        "\n",
        "purpose of covariance:\n",
        "\n",
        "1) understand relationships:\n",
        "\n",
        "* covariance helps identify if two variables move together\n",
        "\n",
        "2) basis for correlation:\n",
        "\n",
        "* covariance is used to calculate the correlaion coefficinet which standaridzes the strength of the relationshp between variables\n",
        "\n",
        "3) portfoli theory in finaces:\n",
        "\n",
        "* investors use covariance to diversify risk by choosing assets thatd ont move in the same direction\n",
        "\n",
        "4) multivrate statistics and machine learning\n",
        "\n",
        "* used in algorithms like principal component analysis to understand data structure\n",
        "\n"
      ],
      "metadata": {
        "id": "1lsNqZ-YnZ-N"
      }
    },
    {
      "cell_type": "markdown",
      "source": [
        "Q22 what does correlation measure in statistics\n",
        "\n",
        "ans:-  correlation measures the strength and direction of a linear relationship between two quantitative variable\n",
        "\n",
        "* correation qualifies how closely two variables move together\n",
        "\n",
        "* its standarized version of covariance easuer to interpret\n",
        "\n",
        "* detect linear relationshp between variables\n",
        "\n",
        "* helps in predictive modeling\n",
        "\n",
        "* crucial for feature selection in machine learning\n",
        "\n",
        "* widely used in finance , psychology , economics, and health science"
      ],
      "metadata": {
        "id": "NkGUdtjUof1s"
      }
    },
    {
      "cell_type": "markdown",
      "source": [
        "Q23 what is the difference between covariance and correlation\n",
        "\n",
        " ans:-  both covariance and correlation measure how two vaiables move togthter but differ in scale , interpretability and usage.\n",
        "\n",
        " covariance:\n",
        "\n",
        " * measures the direction of linear relationship between two varaibles\n",
        "\n",
        " * not standarized can be any value\n",
        "\n",
        " * products of the units of x and y\n",
        "\n",
        " * harder to interpret depends on variable scale\n",
        "\n",
        " * mainly used in portfolio theory and to build correlation\n",
        "\n",
        " correlation:\n",
        "\n",
        " * measures the strength and direction of the linear relationship\n",
        "\n",
        " * standarized always between -1 and +1\n",
        "\n",
        " * unitless\n",
        "\n",
        " * easier to interpret and compare across datasets\n",
        "\n",
        " * used in data analtics , machine learning"
      ],
      "metadata": {
        "id": "Dni2V3lZpX2D"
      }
    },
    {
      "cell_type": "markdown",
      "source": [
        "Q24 what are some real world applications of statistics?\n",
        "\n",
        "ans:1) business and economics\n",
        "\n",
        "* analyze customer surveys, prefrencs and trends\n",
        "* ensuring product consistency using control charts\n",
        "\n",
        "2)healthcare and medicine\n",
        "\n",
        "* testing effectiveness of drugs using statistical methods\n",
        "* tracking disease outbrakes\n",
        "\n",
        "3) educations\n",
        "\n",
        "* comapring test scores , dropout trates etc\n",
        "\n",
        "* evaluating teaching methods with experimental designes\n",
        "\n",
        "4) government and policy\n",
        "\n",
        "* planning resources voting  districts and funding allocations\n",
        "\n",
        "* analyzing patterns to improve law enforcement\n",
        "\n",
        "5) sports and performance\n",
        "\n",
        "* analyzing playeer stats  to improving strategies\n",
        "\n",
        "* predicting outcomes and setting odds"
      ],
      "metadata": {
        "id": "auB8QRIurCS6"
      }
    },
    {
      "cell_type": "markdown",
      "source": [],
      "metadata": {
        "id": "nJg86eWZpEM9"
      }
    },
    {
      "cell_type": "markdown",
      "source": [
        "# Prcatical questions"
      ],
      "metadata": {
        "id": "zugMaiTBWHje"
      }
    },
    {
      "cell_type": "markdown",
      "source": [
        "Q1 how do you calculate mean , median and mode of dataset"
      ],
      "metadata": {
        "id": "-p43I_kHyb5J"
      }
    },
    {
      "cell_type": "code",
      "source": [
        "import numpy as np\n",
        "from scipy import stats\n",
        "\n",
        "# Sample dataset\n",
        "data = [16, 18, 21, 15, 19, 22, 17, 18, 20, 19, 21, 23, 18]\n",
        "\n",
        "# Calculate the mean\n",
        "mean = np.mean(data)\n",
        "print(\"Mean:\", mean)\n",
        "\n",
        "# Calculate the median\n",
        "median = np.median(data)\n",
        "print(\"Median:\", median)\n",
        "\n",
        "# Calculate the mode\n",
        "mode = stats.mode(data)\n",
        "print(\"Mode:\", mode.mode[0]) # stats.mode returns an object, access the mode value"
      ],
      "metadata": {
        "colab": {
          "base_uri": "https://localhost:8080/",
          "height": 211
        },
        "id": "DOli4lISV1zO",
        "outputId": "a583b475-b2c4-41cb-c887-94738a575732"
      },
      "execution_count": null,
      "outputs": [
        {
          "output_type": "error",
          "ename": "NameError",
          "evalue": "name 'ian' is not defined",
          "traceback": [
            "\u001b[0;31m---------------------------------------------------------------------------\u001b[0m",
            "\u001b[0;31mNameError\u001b[0m                                 Traceback (most recent call last)",
            "\u001b[0;32m/tmp/ipython-input-26-1318072297.py\u001b[0m in \u001b[0;36m<cell line: 0>\u001b[0;34m()\u001b[0m\n\u001b[0;32m----> 1\u001b[0;31m \u001b[0mian\u001b[0m \u001b[0;32mand\u001b[0m \u001b[0mmode\u001b[0m\u001b[0;31m# prompt: how to calculate mean med of dataset\u001b[0m\u001b[0;34m\u001b[0m\u001b[0;34m\u001b[0m\u001b[0m\n\u001b[0m\u001b[1;32m      2\u001b[0m \u001b[0;34m\u001b[0m\u001b[0m\n\u001b[1;32m      3\u001b[0m \u001b[0;32mimport\u001b[0m \u001b[0mnumpy\u001b[0m \u001b[0;32mas\u001b[0m \u001b[0mnp\u001b[0m\u001b[0;34m\u001b[0m\u001b[0;34m\u001b[0m\u001b[0m\n\u001b[1;32m      4\u001b[0m \u001b[0;32mfrom\u001b[0m \u001b[0mscipy\u001b[0m \u001b[0;32mimport\u001b[0m \u001b[0mstats\u001b[0m\u001b[0;34m\u001b[0m\u001b[0;34m\u001b[0m\u001b[0m\n\u001b[1;32m      5\u001b[0m \u001b[0;34m\u001b[0m\u001b[0m\n",
            "\u001b[0;31mNameError\u001b[0m: name 'ian' is not defined"
          ]
        }
      ]
    },
    {
      "cell_type": "markdown",
      "source": [
        "Q2 write a python program to compute the variance and standard deviation of data sheet"
      ],
      "metadata": {
        "id": "R3Y5O4XMzkqu"
      }
    },
    {
      "cell_type": "code",
      "source": [
        "# function to calculate mean\n",
        "def mean(data):\n",
        "  return sum (data) / len(data)\n",
        "\n",
        "# function to calculate varience\n",
        "def variance(data):\n",
        "  m = mean(data)\n",
        "  return sum((x - m) ** 2 for x in data) / len(data)\n",
        "\n",
        "#function to calculate standard deviation\n",
        "def standard_deviation(data):\n",
        "  return variance(data) ** 0.5\n",
        "\n",
        "#sample datasheet\n",
        "data = [10,12,23,23,16,23,21,16]\n",
        "#compute variance and standard deviation\n",
        "var = variance(data)\n",
        "std_dev = standard_deviation(data)\n",
        "\n",
        "#print results\n",
        "print(\"datasheet:\",data)\n",
        "print(\"variance:\", round(var,2))\n",
        "print(\"standard deviation:\", round(std_dev, 2))"
      ],
      "metadata": {
        "colab": {
          "base_uri": "https://localhost:8080/"
        },
        "id": "sAsUARR20JL1",
        "outputId": "84ea7206-2e28-4c86-f73e-ff3f15aedd56"
      },
      "execution_count": null,
      "outputs": [
        {
          "output_type": "stream",
          "name": "stdout",
          "text": [
            "datasheet: [10, 12, 23, 23, 16, 23, 21, 16]\n",
            "variance: 24.0\n",
            "standard deviation: 4.9\n"
          ]
        }
      ]
    },
    {
      "cell_type": "markdown",
      "source": [
        "Q3 create a dataset and classify it into nominal, ordial , interval and ratio types"
      ],
      "metadata": {
        "id": "lyjfNcxo2Jcj"
      }
    },
    {
      "cell_type": "code",
      "source": [
        "import pandas as pd\n",
        "\n",
        "#create dataset\n",
        "data= {\n",
        "    \"name\": [\"alice\", \"bob\", \"cahrlie\",\"david\"] ,\n",
        "    \"Gender\": [\"Female\",\"Male\",\"Male\",\"Male\"],\n",
        "#Nominal\n",
        "    \"Education_level\":[\"High School\", \"Bachelors\" ,\"Masters\",\"Phd\"],\n",
        "#Ordinal\n",
        "    \"Temperature_C\": [36.5,37.0,36.8,37.2],\n",
        "#Interval\n",
        "    \"Monthly_Income\": [50000,60000,75000,90000]\n",
        "#ratio\n",
        "}\n",
        "\n",
        "#create Dataframe\n",
        "df = pd.Dataframe(data)\n",
        "\n",
        "#print datset\n",
        "print(\"dataset:\\n\")\n",
        "print(df)\n",
        "\n",
        "#classificaion by data type\n",
        "data_types = {\n",
        "    \"Name\": \"Nominal\",\n",
        "    \"Gender\": \"Nominal\" ,\n",
        "    \"Education\": \"Ordinal\",\n",
        "    \"Temperature\": \"Interval\",\n",
        "    \"Monthly\": \"Ratio\",\n",
        "\n",
        "}\n",
        "\n",
        "#display classification\n",
        "print(\"\\nData Type classification\")\n",
        "for column, dtype in data_types.items():\n",
        "  print(f\"{column}; {dtype}\")"
      ],
      "metadata": {
        "colab": {
          "base_uri": "https://localhost:8080/",
          "height": 211
        },
        "id": "7-f1RzOs2czb",
        "outputId": "71da0e3a-95b8-4ff3-c1b5-081c9ba41516"
      },
      "execution_count": null,
      "outputs": [
        {
          "output_type": "error",
          "ename": "AttributeError",
          "evalue": "module 'pandas' has no attribute 'Dataframe'",
          "traceback": [
            "\u001b[0;31m---------------------------------------------------------------------------\u001b[0m",
            "\u001b[0;31mAttributeError\u001b[0m                            Traceback (most recent call last)",
            "\u001b[0;32m/tmp/ipython-input-6-442371183.py\u001b[0m in \u001b[0;36m<cell line: 0>\u001b[0;34m()\u001b[0m\n\u001b[1;32m     15\u001b[0m \u001b[0;34m\u001b[0m\u001b[0m\n\u001b[1;32m     16\u001b[0m \u001b[0;31m#create Dataframe\u001b[0m\u001b[0;34m\u001b[0m\u001b[0;34m\u001b[0m\u001b[0m\n\u001b[0;32m---> 17\u001b[0;31m \u001b[0mdf\u001b[0m \u001b[0;34m=\u001b[0m \u001b[0mpd\u001b[0m\u001b[0;34m.\u001b[0m\u001b[0mDataframe\u001b[0m\u001b[0;34m(\u001b[0m\u001b[0mdata\u001b[0m\u001b[0;34m)\u001b[0m\u001b[0;34m\u001b[0m\u001b[0;34m\u001b[0m\u001b[0m\n\u001b[0m\u001b[1;32m     18\u001b[0m \u001b[0;34m\u001b[0m\u001b[0m\n\u001b[1;32m     19\u001b[0m \u001b[0;31m#print datset\u001b[0m\u001b[0;34m\u001b[0m\u001b[0;34m\u001b[0m\u001b[0m\n",
            "\u001b[0;31mAttributeError\u001b[0m: module 'pandas' has no attribute 'Dataframe'"
          ]
        }
      ]
    },
    {
      "cell_type": "markdown",
      "source": [
        "Q4 implement  sampling techniques like random sampling and stratifies sampling"
      ],
      "metadata": {
        "id": "E1OnPmiZ7gpC"
      }
    },
    {
      "cell_type": "code",
      "source": [
        "# prompt: implement sampling techniques like random sampling and stratified sampling\n",
        "\n",
        "# Random Sampling\n",
        "random_sample = df.sample(n=2, random_state=42)\n",
        "print(\"\\nRandom Sample:\")\n",
        "print(random_sample)\n",
        "\n",
        "# Stratified Sampling\n",
        "# Stratify by 'Gender'\n",
        "stratified_sample = df.groupby('Gender', group_keys=False).apply(lambda x: x.sample(frac=0.5, random_state=42))\n",
        "print(\"\\nStratified Sample by Gender:\")\n",
        "stratified_sample"
      ],
      "metadata": {
        "colab": {
          "base_uri": "https://localhost:8080/",
          "height": 211
        },
        "id": "YaIlVzW51_H1",
        "outputId": "73068374-18e3-4a22-9337-f8c2c873c775"
      },
      "execution_count": null,
      "outputs": [
        {
          "output_type": "error",
          "ename": "NameError",
          "evalue": "name 'df' is not defined",
          "traceback": [
            "\u001b[0;31m---------------------------------------------------------------------------\u001b[0m",
            "\u001b[0;31mNameError\u001b[0m                                 Traceback (most recent call last)",
            "\u001b[0;32m/tmp/ipython-input-8-1843830664.py\u001b[0m in \u001b[0;36m<cell line: 0>\u001b[0;34m()\u001b[0m\n\u001b[1;32m      2\u001b[0m \u001b[0;34m\u001b[0m\u001b[0m\n\u001b[1;32m      3\u001b[0m \u001b[0;31m# Random Sampling\u001b[0m\u001b[0;34m\u001b[0m\u001b[0;34m\u001b[0m\u001b[0m\n\u001b[0;32m----> 4\u001b[0;31m \u001b[0mrandom_sample\u001b[0m \u001b[0;34m=\u001b[0m \u001b[0mdf\u001b[0m\u001b[0;34m.\u001b[0m\u001b[0msample\u001b[0m\u001b[0;34m(\u001b[0m\u001b[0mn\u001b[0m\u001b[0;34m=\u001b[0m\u001b[0;36m2\u001b[0m\u001b[0;34m,\u001b[0m \u001b[0mrandom_state\u001b[0m\u001b[0;34m=\u001b[0m\u001b[0;36m42\u001b[0m\u001b[0;34m)\u001b[0m\u001b[0;34m\u001b[0m\u001b[0;34m\u001b[0m\u001b[0m\n\u001b[0m\u001b[1;32m      5\u001b[0m \u001b[0mprint\u001b[0m\u001b[0;34m(\u001b[0m\u001b[0;34m\"\\nRandom Sample:\"\u001b[0m\u001b[0;34m)\u001b[0m\u001b[0;34m\u001b[0m\u001b[0;34m\u001b[0m\u001b[0m\n\u001b[1;32m      6\u001b[0m \u001b[0mprint\u001b[0m\u001b[0;34m(\u001b[0m\u001b[0mrandom_sample\u001b[0m\u001b[0;34m)\u001b[0m\u001b[0;34m\u001b[0m\u001b[0;34m\u001b[0m\u001b[0m\n",
            "\u001b[0;31mNameError\u001b[0m: name 'df' is not defined"
          ]
        }
      ]
    },
    {
      "cell_type": "markdown",
      "source": [
        "Q5 write a python function to calculate ranfe of data set"
      ],
      "metadata": {
        "id": "DlSJW2He8z9I"
      }
    },
    {
      "cell_type": "code",
      "source": [
        "# prompt: write a python function to calculate the range of data set\n",
        "\n",
        "def data_range(data):\n",
        "  return max(data) - min(data)\n",
        "\n",
        "# Calculate and print the range for the sample dataset\n",
        "data = [10,12,23,23,16,23,21,16]\n",
        "data_range_value = data_range(data)\n",
        "print(\"\\nRange of the dataset:\", data_range_value)"
      ],
      "metadata": {
        "colab": {
          "base_uri": "https://localhost:8080/"
        },
        "id": "0MI0SuV-89_w",
        "outputId": "490b8ac2-5d32-445d-aab0-c5066048acfb"
      },
      "execution_count": null,
      "outputs": [
        {
          "output_type": "stream",
          "name": "stdout",
          "text": [
            "\n",
            "Range of the dataset: 13\n"
          ]
        }
      ]
    },
    {
      "cell_type": "markdown",
      "source": [
        "Q6 crate a dataset and plot its histogram to visualize skewness"
      ],
      "metadata": {
        "id": "31NyGd-P9MWg"
      }
    },
    {
      "cell_type": "code",
      "source": [
        "# prompt: create a dataset and plot its histogram to visualize skewness\n",
        "\n",
        "import matplotlib.pyplot as plt\n",
        "import numpy as np\n",
        "\n",
        "# Create a sample dataset with skewness\n",
        "data = [10, 12, 15, 18, 20, 22, 25, 30, 35, 40, 50, 60, 70, 80, 100, 150]\n",
        "\n",
        "# Plot a histogram\n",
        "plt.figure(figsize=(8, 6))\n",
        "plt.hist(data, bins=10, edgecolor='black')\n",
        "plt.title('Histogram of Dataset with Skewness')\n",
        "plt.xlabel('Value')\n",
        "plt.ylabel('Frequency')\n",
        "plt.grid(axis='y', alpha=0.75)\n",
        "plt.show()\n",
        "\n",
        "# You can also calculate skewness using libraries like scipy\n",
        "from scipy.stats import skew\n",
        "print(f\"\\nSkewness of the dataset: {skew(data):.2f}\")"
      ],
      "metadata": {
        "colab": {
          "base_uri": "https://localhost:8080/",
          "height": 599
        },
        "id": "RuRlKDjX9jYn",
        "outputId": "956afe40-1744-4c60-e16c-f2952d5cdd4d"
      },
      "execution_count": null,
      "outputs": [
        {
          "output_type": "display_data",
          "data": {
            "text/plain": [
              "<Figure size 800x600 with 1 Axes>"
            ],
            "image/png": "[encoded data removed]"
          },
          "metadata": {}
        },
        {
          "output_type": "stream",
          "name": "stdout",
          "text": [
            "\n",
            "Skewness of the dataset: 1.41\n"
          ]
        }
      ]
    },
    {
      "cell_type": "markdown",
      "source": [
        "Q7 calculate dataset and kurtosis of dataset using python libraries"
      ],
      "metadata": {
        "id": "u9VB6CIT90vH"
      }
    },
    {
      "cell_type": "code",
      "source": [
        "# prompt: calculate dataset and kurtosis using python libraries\n",
        "\n",
        "from scipy.stats import kurtosis\n",
        "\n",
        "# Calculate kurtosis of the dataset\n",
        "kurt = kurtosis(data)\n",
        "\n",
        "print(f\"\\nKurtosis of the dataset: {kurt:.2f}\")\n"
      ],
      "metadata": {
        "colab": {
          "base_uri": "https://localhost:8080/"
        },
        "id": "TcI7lnV--AYe",
        "outputId": "3f5ce884-d388-43a2-e88a-969031e1bfd0"
      },
      "execution_count": null,
      "outputs": [
        {
          "output_type": "stream",
          "name": "stdout",
          "text": [
            "\n",
            "Kurtosis of the dataset: 1.39\n"
          ]
        }
      ]
    },
    {
      "cell_type": "markdown",
      "source": [
        "q9 write a python script to calculate covariance betweeen two datasets"
      ],
      "metadata": {
        "id": "N1WvXtq4-1gO"
      }
    },
    {
      "cell_type": "code",
      "source": [
        "# prompt: write a python script to calculatae covariance between two datasets\n",
        "\n",
        "import numpy as np\n",
        "# q9 write a python script to calculate covariance betweeen two datasets\n",
        "\n",
        "def covariance(data1, data2):\n",
        "  \"\"\"Calculates the covariance between two datasets.\n",
        "\n",
        "  Args:\n",
        "    data1: A list or array of numbers.\n",
        "    data2: A list or array of numbers with the same length as data1.\n",
        "\n",
        "  Returns:\n",
        "    The covariance between data1 and data2.\n",
        "  \"\"\"\n",
        "  n = len(data1)\n",
        "  if n != len(data2):\n",
        "    raise ValueError(\"Datasets must have the same length\")\n",
        "\n",
        "  mean1 = sum(data1) / n\n",
        "  mean2 = sum(data2) / n\n",
        "\n",
        "  cov = sum((x - mean1) * (y - mean2) for x, y in zip(data1, data2)) / n\n",
        "  return cov\n",
        "\n",
        "# Create two sample datasets\n",
        "dataset1 = [1, 2, 3, 4, 5]\n",
        "dataset2 = [5, 4, 3, 2, 1]\n",
        "\n",
        "# Calculate the covariance\n",
        "cov_value = covariance(dataset1, dataset2)\n",
        "\n",
        "print(f\"\\nCovariance between dataset1 and dataset2: {cov_value:.2f}\")\n",
        "\n",
        "# You can also use numpy for calculating covariance\n",
        "numpy_cov = np.cov(dataset1, dataset2)[0, 1]\n",
        "print(f\"Covariance using numpy: {numpy_cov:.2f}\")"
      ],
      "metadata": {
        "colab": {
          "base_uri": "https://localhost:8080/"
        },
        "id": "jsQwveuw_BXm",
        "outputId": "5a62a6f2-1e50-4204-9c1f-bd02d0a798df"
      },
      "execution_count": null,
      "outputs": [
        {
          "output_type": "stream",
          "name": "stdout",
          "text": [
            "\n",
            "Covariance between dataset1 and dataset2: -2.00\n",
            "Covariance using numpy: -2.50\n"
          ]
        }
      ]
    },
    {
      "cell_type": "markdown",
      "source": [
        "q10  write a python script tp calculate corelation coefficient between two datasets"
      ],
      "metadata": {
        "id": "q_qKA5rT_NBd"
      }
    },
    {
      "cell_type": "code",
      "source": [
        "# prompt:  write a python script to calculate corelation coefficient between tow data sets\n",
        "\n",
        "import numpy as np\n",
        "# Q10 write a python script to calculate correlation coefficient between two datasets\n",
        "\n",
        "def correlation_coefficient(data1, data2):\n",
        "  \"\"\"Calculates the correlation coefficient between two datasets.\n",
        "\n",
        "  Args:\n",
        "    data1: A list or array of numbers.\n",
        "    data2: A list or array of numbers with the same length as data1.\n",
        "\n",
        "  Returns:\n",
        "    The correlation coefficient between data1 and data2.\n",
        "  \"\"\"\n",
        "  n = len(data1)\n",
        "  if n != len(data2):\n",
        "    raise ValueError(\"Datasets must have the same length\")\n",
        "\n",
        "  cov = covariance(data1, data2)\n",
        "  std_dev1 = standard_deviation(data1)\n",
        "  std_dev2 = standard_deviation(data2)\n",
        "\n",
        "  if std_dev1 == 0 or std_dev2 == 0:\n",
        "      return 0 # Handle cases where one or both datasets have zero standard deviation\n",
        "\n",
        "  corr = cov / (std_dev1 * std_dev2)\n",
        "  return corr\n",
        "\n",
        "# Calculate the correlation coefficient\n",
        "corr_value = correlation_coefficient(dataset1, dataset2)\n",
        "\n",
        "print(f\"\\nCorrelation coefficient between dataset1 and dataset2: {corr_value:.2f}\")\n",
        "\n",
        "# You can also use numpy for calculating correlation coefficient\n",
        "numpy_corr = np.corrcoef(dataset1, dataset2)[0, 1]\n",
        "print(f\"Correlation coefficient using numpy: {numpy_corr:.2f}\")\n"
      ],
      "metadata": {
        "colab": {
          "base_uri": "https://localhost:8080/"
        },
        "id": "33iuNjYvAzDb",
        "outputId": "ba2cf8f1-1ed9-4fab-80b1-fa99b7a756fd"
      },
      "execution_count": null,
      "outputs": [
        {
          "output_type": "stream",
          "name": "stdout",
          "text": [
            "\n",
            "Correlation coefficient between dataset1 and dataset2: -1.00\n",
            "Correlation coefficient using numpy: -1.00\n"
          ]
        }
      ]
    },
    {
      "cell_type": "markdown",
      "source": [
        "Q11create a scatter plot to visualise the relationshp between two variables"
      ],
      "metadata": {
        "id": "zUY55xRHBEzr"
      }
    },
    {
      "cell_type": "code",
      "source": [
        "# prompt: create a scatter plot to visualise  relationship between two variables\n",
        "\n",
        "import matplotlib.pyplot as plt\n",
        "# Assuming 'data1' and 'data2' from the previous cell are the two variables\n",
        "plt.figure(figsize=(8, 6))\n",
        "plt.scatter(dataset1, dataset2)\n",
        "plt.title('Scatter Plot of Dataset1 vs Dataset2')\n",
        "plt.xlabel('Dataset1')\n",
        "plt.ylabel('Dataset2')\n",
        "plt.grid(True)\n",
        "plt.show()"
      ],
      "metadata": {
        "colab": {
          "base_uri": "https://localhost:8080/",
          "height": 564
        },
        "id": "eM4TP3JrEo4W",
        "outputId": "56be3b2b-ce85-4ab3-b09d-dbf5c973e70e"
      },
      "execution_count": null,
      "outputs": [
        {
          "output_type": "display_data",
          "data": {
            "text/plain": [
              "<Figure size 800x600 with 1 Axes>"
            ],
            "image/png": "[encoded data removed]"
          },
          "metadata": {}
        }
      ]
    },
    {
      "cell_type": "markdown",
      "source": [
        "Q12implement and compare simple random sampling and systematic sampling"
      ],
      "metadata": {
        "id": "FQI4eoc9E1be"
      }
    },
    {
      "cell_type": "code",
      "source": [
        "# prompt: implement and compare simple random sampling and systematic sampling\n",
        "\n",
        "import numpy as np\n",
        "# Assuming 'df' is the DataFrame created in the previous cell\n",
        "\n",
        "# Simple Random Sampling\n",
        "simple_random_sample = df.sample(n=3, random_state=42) # Sample 3 observations\n",
        "print(\"\\nSimple Random Sample:\")\n",
        "print(simple_random_sample)\n",
        "\n",
        "# Systematic Sampling\n",
        "n_samples = 3\n",
        "total_samples = len(df)\n",
        "k = total_samples // n_samples # Calculate the interval\n",
        "\n",
        "# Start at a random point within the first interval\n",
        "start = np.random.randint(0, k)\n",
        "\n",
        "# Select samples at regular intervals\n",
        "systematic_sample = df.iloc[start::k].head(n_samples)\n",
        "print(\"\\nSystematic Sample:\")\n",
        "print(systematic_sample)\n"
      ],
      "metadata": {
        "colab": {
          "base_uri": "https://localhost:8080/",
          "height": 211
        },
        "id": "u2nnYJT0FBV1",
        "outputId": "81b900af-146c-49e3-ec8f-29dc923e1ac0"
      },
      "execution_count": null,
      "outputs": [
        {
          "output_type": "error",
          "ename": "NameError",
          "evalue": "name 'df' is not defined",
          "traceback": [
            "\u001b[0;31m---------------------------------------------------------------------------\u001b[0m",
            "\u001b[0;31mNameError\u001b[0m                                 Traceback (most recent call last)",
            "\u001b[0;32m/tmp/ipython-input-14-1206856306.py\u001b[0m in \u001b[0;36m<cell line: 0>\u001b[0;34m()\u001b[0m\n\u001b[1;32m      5\u001b[0m \u001b[0;34m\u001b[0m\u001b[0m\n\u001b[1;32m      6\u001b[0m \u001b[0;31m# Simple Random Sampling\u001b[0m\u001b[0;34m\u001b[0m\u001b[0;34m\u001b[0m\u001b[0m\n\u001b[0;32m----> 7\u001b[0;31m \u001b[0msimple_random_sample\u001b[0m \u001b[0;34m=\u001b[0m \u001b[0mdf\u001b[0m\u001b[0;34m.\u001b[0m\u001b[0msample\u001b[0m\u001b[0;34m(\u001b[0m\u001b[0mn\u001b[0m\u001b[0;34m=\u001b[0m\u001b[0;36m3\u001b[0m\u001b[0;34m,\u001b[0m \u001b[0mrandom_state\u001b[0m\u001b[0;34m=\u001b[0m\u001b[0;36m42\u001b[0m\u001b[0;34m)\u001b[0m \u001b[0;31m# Sample 3 observations\u001b[0m\u001b[0;34m\u001b[0m\u001b[0;34m\u001b[0m\u001b[0m\n\u001b[0m\u001b[1;32m      8\u001b[0m \u001b[0mprint\u001b[0m\u001b[0;34m(\u001b[0m\u001b[0;34m\"\\nSimple Random Sample:\"\u001b[0m\u001b[0;34m)\u001b[0m\u001b[0;34m\u001b[0m\u001b[0;34m\u001b[0m\u001b[0m\n\u001b[1;32m      9\u001b[0m \u001b[0mprint\u001b[0m\u001b[0;34m(\u001b[0m\u001b[0msimple_random_sample\u001b[0m\u001b[0;34m)\u001b[0m\u001b[0;34m\u001b[0m\u001b[0;34m\u001b[0m\u001b[0m\n",
            "\u001b[0;31mNameError\u001b[0m: name 'df' is not defined"
          ]
        }
      ]
    },
    {
      "cell_type": "markdown",
      "source": [
        "Q13 calculate the mean median mod of group data"
      ],
      "metadata": {
        "id": "10kkao0HFWl1"
      }
    },
    {
      "cell_type": "code",
      "source": [
        "# prompt: calculate the mean median mode of group data\n",
        "\n",
        "import pandas as pd\n",
        "# Assuming you have a DataFrame with grouped data, for example:\n",
        "data_grouped = {\n",
        "    \"Category\": [\"A\", \"A\", \"B\", \"B\", \"A\", \"B\", \"A\", \"B\"],\n",
        "    \"Value\": [10, 15, 20, 25, 12, 22, 18, 28]\n",
        "}\n",
        "df_grouped = pd.DataFrame(data_grouped)\n",
        "\n",
        "print(\"\\nGrouped Data:\")\n",
        "print(df_grouped)\n",
        "\n",
        "# Calculate mean, median, and mode for each group\n",
        "grouped_mean = df_grouped.groupby('Category')['Value'].mean()\n",
        "grouped_median = df_grouped.groupby('Category')['Value'].median()\n",
        "grouped_mode = df_grouped.groupby('Category')['Value'].agg(lambda x: x.mode()[0] if not x.mode().empty else 'No Mode') # Handle cases with no unique mode\n",
        "\n",
        "print(\"\\nMean of grouped data:\")\n",
        "print(grouped_mean)\n",
        "\n",
        "print(\"\\nMedian of grouped data:\")\n",
        "print(grouped_median)\n",
        "\n",
        "print(\"\\nMode of grouped data:\")\n",
        "grouped_mode\n"
      ],
      "metadata": {
        "colab": {
          "base_uri": "https://localhost:8080/",
          "height": 612
        },
        "id": "G4-mjoxxFk4U",
        "outputId": "a969933a-c9a1-443d-e400-4bd405479f9d"
      },
      "execution_count": null,
      "outputs": [
        {
          "output_type": "stream",
          "name": "stdout",
          "text": [
            "\n",
            "Grouped Data:\n",
            "  Category  Value\n",
            "0        A     10\n",
            "1        A     15\n",
            "2        B     20\n",
            "3        B     25\n",
            "4        A     12\n",
            "5        B     22\n",
            "6        A     18\n",
            "7        B     28\n",
            "\n",
            "Mean of grouped data:\n",
            "Category\n",
            "A    13.75\n",
            "B    23.75\n",
            "Name: Value, dtype: float64\n",
            "\n",
            "Median of grouped data:\n",
            "Category\n",
            "A    13.5\n",
            "B    23.5\n",
            "Name: Value, dtype: float64\n",
            "\n",
            "Mode of grouped data:\n"
          ]
        },
        {
          "output_type": "execute_result",
          "data": {
            "text/plain": [
              "Category\n",
              "A    10\n",
              "B    20\n",
              "Name: Value, dtype: int64"
            ],
            "text/html": [
              "<div>\n",
              "<style scoped>\n",
              "    .dataframe tbody tr th:only-of-type {\n",
              "        vertical-align: middle;\n",
              "    }\n",
              "\n",
              "    .dataframe tbody tr th {\n",
              "        vertical-align: top;\n",
              "    }\n",
              "\n",
              "    .dataframe thead th {\n",
              "        text-align: right;\n",
              "    }\n",
              "</style>\n",
              "<table border=\"1\" class=\"dataframe\">\n",
              "  <thead>\n",
              "    <tr style=\"text-align: right;\">\n",
              "      <th></th>\n",
              "      <th>Value</th>\n",
              "    </tr>\n",
              "    <tr>\n",
              "      <th>Category</th>\n",
              "      <th></th>\n",
              "    </tr>\n",
              "  </thead>\n",
              "  <tbody>\n",
              "    <tr>\n",
              "      <th>A</th>\n",
              "      <td>10</td>\n",
              "    </tr>\n",
              "    <tr>\n",
              "      <th>B</th>\n",
              "      <td>20</td>\n",
              "    </tr>\n",
              "  </tbody>\n",
              "</table>\n",
              "</div><br><label><b>dtype:</b> int64</label>"
            ]
          },
          "metadata": {},
          "execution_count": 15
        }
      ]
    },
    {
      "cell_type": "markdown",
      "source": [
        "Q14simulate data using python calculate its central tendency and dispersion"
      ],
      "metadata": {
        "id": "TvUKXe4vFsDM"
      }
    },
    {
      "cell_type": "code",
      "source": [
        "# prompt: simulate data using python calculate its central tendency and dispersion\n",
        "\n",
        "import matplotlib.pyplot as plt\n",
        "import numpy as np\n",
        "# Simulate data (example: normally distributed data)\n",
        "np.random.seed(42) # for reproducibility\n",
        "simulated_data = np.random.normal(loc=50, scale=10, size=100) # Mean=50, Std Dev=10, 100 data points\n",
        "\n",
        "# Calculate Central Tendency\n",
        "simulated_mean = np.mean(simulated_data)\n",
        "simulated_median = np.median(simulated_data)\n",
        "\n",
        "# Calculate Mode (using scipy stats)\n",
        "from scipy import stats\n",
        "simulated_mode_result = stats.mode(simulated_data)\n",
        "# stats.mode returns a ModeResult object; we access the mode value\n",
        "if simulated_mode_result.mode.size > 0:\n",
        "  simulated_mode = simulated_mode_result.mode[0]\n",
        "else:\n",
        "  simulated_mode = \"No unique mode\" # Handle cases where no single mode exists\n",
        "\n",
        "# Calculate Dispersion\n",
        "simulated_variance = np.var(simulated_data) # population variance\n",
        "simulated_std_dev = np.std(simulated_data) # population standard deviation\n",
        "simulated_range = np.max(simulated_data) - np.min(simulated_data)\n",
        "simulated_iqr = np.percentile(simulated_data, 75) - np.percentile(simulated_data, 25) # Interquartile Range\n",
        "\n",
        "# Print results\n",
        "print(\"\\nSimulated Data (first 10 values):\", simulated_data[:10])\n",
        "print(\"\\n--- Central Tendency ---\")\n",
        "print(f\"Mean: {simulated_mean:.2f}\")\n",
        "print(f\"Median: {simulated_median:.2f}\")\n",
        "print(f\"Mode: {simulated_mode}\")\n",
        "\n",
        "print(\"\\n--- Dispersion ---\")\n",
        "print(f\"Variance: {simulated_variance:.2f}\")\n",
        "print(f\"Standard Deviation: {simulated_std_dev:.2f}\")\n",
        "print(f\"Range: {simulated_range:.2f}\")\n",
        "print(f\"Interquartile Range (IQR): {simulated_iqr:.2f}\")\n",
        "\n",
        "# Optional: Visualize the simulated data distribution\n",
        "plt.figure(figsize=(8, 6))\n",
        "plt.hist(simulated_data, bins=15, edgecolor='black', alpha=0.7)\n",
        "plt.title('Histogram of Simulated Data')\n",
        "plt.xlabel('Value')\n",
        "plt.ylabel('Frequency')\n",
        "plt.grid(axis='y', alpha=0.75)\n",
        "plt.show()"
      ],
      "metadata": {
        "id": "K3ke8fDAF6vM"
      },
      "execution_count": null,
      "outputs": []
    },
    {
      "cell_type": "markdown",
      "source": [
        "Q15 use numpy or pandas  to summerise datsets descripitve statistics"
      ],
      "metadata": {
        "id": "qsva07kpGR4j"
      }
    },
    {
      "cell_type": "code",
      "source": [
        "# prompt: use numpy to summerise datasets descriptive statistics\n",
        "\n",
        "import pandas as pd\n",
        "import numpy as np\n",
        "# Assuming 'simulated_data' is the NumPy array from the previous cell\n",
        "\n",
        "# Using NumPy to summarize descriptive statistics\n",
        "print(\"\\n--- Descriptive Statistics using NumPy ---\")\n",
        "print(f\"Mean: {np.mean(simulated_data):.2f}\")\n",
        "print(f\"Median: {np.median(simulated_data):.2f}\")\n",
        "# Mode is not a standard NumPy function, use scipy as shown previously if needed\n",
        "print(f\"Standard Deviation: {np.std(simulated_data):.2f}\")\n",
        "print(f\"Variance: {np.var(simulated_data):.2f}\")\n",
        "print(f\"Minimum: {np.min(simulated_data):.2f}\")\n",
        "print(f\"Maximum: {np.max(simulated_data):.2f}\")\n",
        "print(f\"Range: {np.ptp(simulated_data):.2f}\") # Peak-to-peak (range)\n",
        "print(f\"25th Percentile (Q1): {np.percentile(simulated_data, 25):.2f}\")\n",
        "print(f\"75th Percentile (Q3): {np.percentile(simulated_data, 75):.2f}\")\n",
        "print(f\"IQR: {np.percentile(simulated_data, 75) - np.percentile(simulated_data, 25):.2f}\")\n",
        "\n",
        "\n",
        "# Assuming 'df' is the DataFrame created in a previous cell\n",
        "# If you want to use the 'simulated_data' in a DataFrame:\n",
        "df_simulated = pd.DataFrame(simulated_data, columns=['Value'])\n",
        "\n",
        "# Using Pandas to summarize descriptive statistics\n",
        "# The .describe() method provides a rich summary\n",
        "print(\"\\n--- Descriptive Statistics using Pandas (.describe()) ---\")\n",
        "print(df_simulated['Value'].describe())\n",
        "\n",
        "# You can also access specific statistics from the DataFrame\n",
        "print(\"\\n--- Specific Descriptive Statistics using Pandas ---\")\n",
        "print(f\"Mean: {df_simulated['Value'].mean():.2f}\")\n",
        "print(f\"Median: {df_simulated['Value'].median():.2f}\")\n",
        "print(f\"Standard Deviation: {df_simulated['Value'].std():.2f}\")\n",
        "print(f\"Variance: {df_simulated['Value'].var():.2f}\")\n",
        "print(f\"Minimum: {df_simulated['Value'].min():.2f}\")\n",
        "print(f\"Maximum: {df_simulated['Value'].max():.2f}\")\n",
        "print(f\"Count: {df_simulated['Value'].count()}\")\n",
        "print(f\"Skewness: {df_simulated['Value'].skew():.2f}\")\n",
        "print(f\"Kurtosis: {df_simulated['Value'].kurtosis():.2f}\")\n",
        "\n",
        "# For mode in pandas, you can use .mode()\n",
        "# Note that it can return multiple modes if they exist\n",
        "print(\"\\nMode using Pandas:\")\n",
        "print(df_simulated['Value'].mode())"
      ],
      "metadata": {
        "colab": {
          "base_uri": "https://localhost:8080/",
          "height": 245
        },
        "id": "4rk_KIfuFN8c",
        "outputId": "a3eba290-5b98-494d-df87-6aba33aac38f"
      },
      "execution_count": null,
      "outputs": [
        {
          "output_type": "stream",
          "name": "stdout",
          "text": [
            "\n",
            "--- Descriptive Statistics using NumPy ---\n"
          ]
        },
        {
          "output_type": "error",
          "ename": "NameError",
          "evalue": "name 'simulated_data' is not defined",
          "traceback": [
            "\u001b[0;31m---------------------------------------------------------------------------\u001b[0m",
            "\u001b[0;31mNameError\u001b[0m                                 Traceback (most recent call last)",
            "\u001b[0;32m/tmp/ipython-input-16-4253052608.py\u001b[0m in \u001b[0;36m<cell line: 0>\u001b[0;34m()\u001b[0m\n\u001b[1;32m      7\u001b[0m \u001b[0;31m# Using NumPy to summarize descriptive statistics\u001b[0m\u001b[0;34m\u001b[0m\u001b[0;34m\u001b[0m\u001b[0m\n\u001b[1;32m      8\u001b[0m \u001b[0mprint\u001b[0m\u001b[0;34m(\u001b[0m\u001b[0;34m\"\\n--- Descriptive Statistics using NumPy ---\"\u001b[0m\u001b[0;34m)\u001b[0m\u001b[0;34m\u001b[0m\u001b[0;34m\u001b[0m\u001b[0m\n\u001b[0;32m----> 9\u001b[0;31m \u001b[0mprint\u001b[0m\u001b[0;34m(\u001b[0m\u001b[0;34mf\"Mean: {np.mean(simulated_data):.2f}\"\u001b[0m\u001b[0;34m)\u001b[0m\u001b[0;34m\u001b[0m\u001b[0;34m\u001b[0m\u001b[0m\n\u001b[0m\u001b[1;32m     10\u001b[0m \u001b[0mprint\u001b[0m\u001b[0;34m(\u001b[0m\u001b[0;34mf\"Median: {np.median(simulated_data):.2f}\"\u001b[0m\u001b[0;34m)\u001b[0m\u001b[0;34m\u001b[0m\u001b[0;34m\u001b[0m\u001b[0m\n\u001b[1;32m     11\u001b[0m \u001b[0;31m# Mode is not a standard NumPy function, use scipy as shown previously if needed\u001b[0m\u001b[0;34m\u001b[0m\u001b[0;34m\u001b[0m\u001b[0m\n",
            "\u001b[0;31mNameError\u001b[0m: name 'simulated_data' is not defined"
          ]
        }
      ]
    },
    {
      "cell_type": "markdown",
      "source": [
        "Q16 plot a boxplot to understand the spread andidentify outliners"
      ],
      "metadata": {
        "id": "1KODp7mBG1Kz"
      }
    },
    {
      "cell_type": "code",
      "source": [
        "# prompt: plot a boxplot understand the spread and idntify outliers\n",
        "\n",
        "import matplotlib.pyplot as plt\n",
        "import numpy as np\n",
        "# Assume you have a dataset, for example, the 'simulated_data' from the previous cell\n",
        "# Or create a new sample dataset:\n",
        "data_for_boxplot = [10, 12, 15, 18, 20, 22, 25, 30, 35, 40, 50, 60, 70, 80, 100, 150, 250] # Added an outlier (250)\n",
        "\n",
        "plt.figure(figsize=(8, 6))\n",
        "plt.boxplot(data_for_boxplot, vert=False, patch_artist=True) # vert=False for horizontal boxplot\n",
        "plt.title('Boxplot to Visualize Spread and Identify Outliers')\n",
        "plt.xlabel('Value')\n",
        "plt.grid(axis='x', alpha=0.75)\n",
        "plt.show()\n",
        "\n",
        "# Explanation of the boxplot:\n",
        "# - The box represents the Interquartile Range (IQR), from the 25th percentile (Q1) to the 75th percentile (Q3).\n",
        "# - The line inside the box is the median (50th percentile).\n",
        "# - The \"whiskers\" extend from the box to the minimum and maximum values within 1.5 * IQR from the box edges.\n",
        "# - Points plotted individually beyond the whiskers are considered potential outliers.\n",
        "\n",
        "# You can also calculate the IQR and outlier fences explicitly:\n",
        "q1 = np.percentile(data_for_boxplot, 25)\n",
        "q3 = np.percentile(data_for_boxplot, 75)\n",
        "iqr_value = q3 - q1\n",
        "\n",
        "lower_bound = q1 - 1.5 * iqr_value\n",
        "upper_bound = q3 + 1.5 * iqr_value\n",
        "\n",
        "print(f\"\\nQ1: {q1:.2f}\")\n",
        "print(f\"Q3: {q3:.2f}\")\n",
        "print(f\"IQR: {iqr_value:.2f}\")\n",
        "print(f\"Lower bound for outliers: {lower_bound:.2f}\")\n",
        "print(f\"Upper bound for outliers: {upper_bound:.2f}\")\n",
        "\n",
        "outliers = [x for x in data_for_boxplot if x < lower_bound or x > upper_bound]\n",
        "print(f\"Identified potential outliers: {outliers}\")"
      ],
      "metadata": {
        "colab": {
          "base_uri": "https://localhost:8080/",
          "height": 686
        },
        "id": "urpJ9xubHJxy",
        "outputId": "0eeec62d-61f4-4425-f202-663f2e65a7f7"
      },
      "execution_count": null,
      "outputs": [
        {
          "output_type": "display_data",
          "data": {
            "text/plain": [
              "<Figure size 800x600 with 1 Axes>"
            ],
            "image/png": "[encoded data removed]"
          },
          "metadata": {}
        },
        {
          "output_type": "stream",
          "name": "stdout",
          "text": [
            "\n",
            "Q1: 20.00\n",
            "Q3: 70.00\n",
            "IQR: 50.00\n",
            "Lower bound for outliers: -55.00\n",
            "Upper bound for outliers: 145.00\n",
            "Identified potential outliers: [150, 250]\n"
          ]
        }
      ]
    },
    {
      "cell_type": "markdown",
      "source": [
        "Q18 implement z score normalisation and explain its significance"
      ],
      "metadata": {
        "id": "LQuUluXSIAiJ"
      }
    },
    {
      "cell_type": "code",
      "source": [
        "import numpy as np\n",
        "\n",
        "# sample dataset\n",
        "data = [10,20,30,40,50]\n",
        "\n",
        "#convert to numpy array for easier computation\n",
        "data = np.array(data)\n",
        "\n",
        "# calculate mean and standard deviation\n",
        "mean = np.mean(data)\n",
        "std_dev = np.std(data)\n",
        "\n",
        "#aplly Z score normalisation\n",
        "z_scores = (data - mean) / std_dev\n",
        "\n",
        "#display results\n",
        "print(\"otiginal Data:\" ,data)\n",
        "print(\"Z-score Normalised Data:\",z_scores)"
      ],
      "metadata": {
        "colab": {
          "base_uri": "https://localhost:8080/"
        },
        "id": "cPXmSdbbIiJw",
        "outputId": "a4c986d0-1a2c-4538-e86e-31eb958b0383"
      },
      "execution_count": null,
      "outputs": [
        {
          "output_type": "stream",
          "name": "stdout",
          "text": [
            "otiginal Data: [10 20 30 40 50]\n",
            "Z-score Normalised Data: [-1.41421356 -0.70710678  0.          0.70710678  1.41421356]\n"
          ]
        }
      ]
    },
    {
      "cell_type": "markdown",
      "source": [
        "Q19 compare two datasets using their standard deviation"
      ],
      "metadata": {
        "id": "cYytGf_jJph3"
      }
    },
    {
      "cell_type": "code",
      "source": [
        "# Create two sample datasets to compare\n",
        "dataset_a = [10, 12, 14, 16, 18]\n",
        "dataset_b = [5, 15, 25, 35, 45]\n",
        "\n",
        "# Compare the datasets\n",
        "comparison_result = compare_std_dev(dataset_a, dataset_b)\n",
        "print(comparison_result)\n",
        "\n",
        "# Another example with different datasets\n",
        "dataset_c = [50, 52, 51, 49, 53]\n",
        "dataset_d = [10, 60, 30, 80, 40]\n",
        "\n",
        "comparison_result_2 = compare_std_dev(dataset_c, dataset_d)\n",
        "comparison_result_2"
      ],
      "metadata": {
        "colab": {
          "base_uri": "https://localhost:8080/",
          "height": 356
        },
        "id": "d3N-dDgUJji4",
        "outputId": "382acaed-4909-4c11-c462-40af1dae89dc"
      },
      "execution_count": null,
      "outputs": [
        {
          "output_type": "error",
          "ename": "TypeError",
          "evalue": "'numpy.float64' object is not callable",
          "traceback": [
            "\u001b[0;31m---------------------------------------------------------------------------\u001b[0m",
            "\u001b[0;31mTypeError\u001b[0m                                 Traceback (most recent call last)",
            "\u001b[0;32m/tmp/ipython-input-20-684696482.py\u001b[0m in \u001b[0;36m<cell line: 0>\u001b[0;34m()\u001b[0m\n\u001b[1;32m      4\u001b[0m \u001b[0;34m\u001b[0m\u001b[0m\n\u001b[1;32m      5\u001b[0m \u001b[0;31m# Compare the datasets\u001b[0m\u001b[0;34m\u001b[0m\u001b[0;34m\u001b[0m\u001b[0m\n\u001b[0;32m----> 6\u001b[0;31m \u001b[0mcomparison_result\u001b[0m \u001b[0;34m=\u001b[0m \u001b[0mcompare_std_dev\u001b[0m\u001b[0;34m(\u001b[0m\u001b[0mdataset_a\u001b[0m\u001b[0;34m,\u001b[0m \u001b[0mdataset_b\u001b[0m\u001b[0;34m)\u001b[0m\u001b[0;34m\u001b[0m\u001b[0;34m\u001b[0m\u001b[0m\n\u001b[0m\u001b[1;32m      7\u001b[0m \u001b[0mprint\u001b[0m\u001b[0;34m(\u001b[0m\u001b[0mcomparison_result\u001b[0m\u001b[0;34m)\u001b[0m\u001b[0;34m\u001b[0m\u001b[0;34m\u001b[0m\u001b[0m\n\u001b[1;32m      8\u001b[0m \u001b[0;34m\u001b[0m\u001b[0m\n",
            "\u001b[0;32m/tmp/ipython-input-19-1498090200.py\u001b[0m in \u001b[0;36mcompare_std_dev\u001b[0;34m(data1, data2)\u001b[0m\n\u001b[1;32m     11\u001b[0m     \u001b[0mA\u001b[0m \u001b[0mstring\u001b[0m \u001b[0mindicating\u001b[0m \u001b[0mwhich\u001b[0m \u001b[0mdataset\u001b[0m \u001b[0mhas\u001b[0m \u001b[0ma\u001b[0m \u001b[0mhigher\u001b[0m \u001b[0mstandard\u001b[0m \u001b[0mdeviation\u001b[0m \u001b[0;32mor\u001b[0m \u001b[0;32mif\u001b[0m \u001b[0mthey\u001b[0m \u001b[0mare\u001b[0m \u001b[0msimilar\u001b[0m\u001b[0;34m.\u001b[0m\u001b[0;34m\u001b[0m\u001b[0;34m\u001b[0m\u001b[0m\n\u001b[1;32m     12\u001b[0m   \"\"\"\n\u001b[0;32m---> 13\u001b[0;31m   \u001b[0mstd_dev1\u001b[0m \u001b[0;34m=\u001b[0m \u001b[0mstandard_deviation\u001b[0m\u001b[0;34m(\u001b[0m\u001b[0mdata1\u001b[0m\u001b[0;34m)\u001b[0m\u001b[0;34m\u001b[0m\u001b[0;34m\u001b[0m\u001b[0m\n\u001b[0m\u001b[1;32m     14\u001b[0m   \u001b[0mstd_dev2\u001b[0m \u001b[0;34m=\u001b[0m \u001b[0mstandard_deviation\u001b[0m\u001b[0;34m(\u001b[0m\u001b[0mdata2\u001b[0m\u001b[0;34m)\u001b[0m\u001b[0;34m\u001b[0m\u001b[0;34m\u001b[0m\u001b[0m\n\u001b[1;32m     15\u001b[0m \u001b[0;34m\u001b[0m\u001b[0m\n",
            "\u001b[0;32m/tmp/ipython-input-3-834084423.py\u001b[0m in \u001b[0;36mstandard_deviation\u001b[0;34m(data)\u001b[0m\n\u001b[1;32m     10\u001b[0m \u001b[0;31m#function to calculate standard deviation\u001b[0m\u001b[0;34m\u001b[0m\u001b[0;34m\u001b[0m\u001b[0m\n\u001b[1;32m     11\u001b[0m \u001b[0;32mdef\u001b[0m \u001b[0mstandard_deviation\u001b[0m\u001b[0;34m(\u001b[0m\u001b[0mdata\u001b[0m\u001b[0;34m)\u001b[0m\u001b[0;34m:\u001b[0m\u001b[0;34m\u001b[0m\u001b[0;34m\u001b[0m\u001b[0m\n\u001b[0;32m---> 12\u001b[0;31m   \u001b[0;32mreturn\u001b[0m \u001b[0mvariance\u001b[0m\u001b[0;34m(\u001b[0m\u001b[0mdata\u001b[0m\u001b[0;34m)\u001b[0m \u001b[0;34m**\u001b[0m \u001b[0;36m0.5\u001b[0m\u001b[0;34m\u001b[0m\u001b[0;34m\u001b[0m\u001b[0m\n\u001b[0m\u001b[1;32m     13\u001b[0m \u001b[0;34m\u001b[0m\u001b[0m\n\u001b[1;32m     14\u001b[0m \u001b[0;31m#sample datasheet\u001b[0m\u001b[0;34m\u001b[0m\u001b[0;34m\u001b[0m\u001b[0m\n",
            "\u001b[0;32m/tmp/ipython-input-3-834084423.py\u001b[0m in \u001b[0;36mvariance\u001b[0;34m(data)\u001b[0m\n\u001b[1;32m      5\u001b[0m \u001b[0;31m# function to calculate varience\u001b[0m\u001b[0;34m\u001b[0m\u001b[0;34m\u001b[0m\u001b[0m\n\u001b[1;32m      6\u001b[0m \u001b[0;32mdef\u001b[0m \u001b[0mvariance\u001b[0m\u001b[0;34m(\u001b[0m\u001b[0mdata\u001b[0m\u001b[0;34m)\u001b[0m\u001b[0;34m:\u001b[0m\u001b[0;34m\u001b[0m\u001b[0;34m\u001b[0m\u001b[0m\n\u001b[0;32m----> 7\u001b[0;31m   \u001b[0mm\u001b[0m \u001b[0;34m=\u001b[0m \u001b[0mmean\u001b[0m\u001b[0;34m(\u001b[0m\u001b[0mdata\u001b[0m\u001b[0;34m)\u001b[0m\u001b[0;34m\u001b[0m\u001b[0;34m\u001b[0m\u001b[0m\n\u001b[0m\u001b[1;32m      8\u001b[0m   \u001b[0;32mreturn\u001b[0m \u001b[0msum\u001b[0m\u001b[0;34m(\u001b[0m\u001b[0;34m(\u001b[0m\u001b[0mx\u001b[0m \u001b[0;34m-\u001b[0m \u001b[0mm\u001b[0m\u001b[0;34m)\u001b[0m \u001b[0;34m**\u001b[0m \u001b[0;36m2\u001b[0m \u001b[0;32mfor\u001b[0m \u001b[0mx\u001b[0m \u001b[0;32min\u001b[0m \u001b[0mdata\u001b[0m\u001b[0;34m)\u001b[0m \u001b[0;34m/\u001b[0m \u001b[0mlen\u001b[0m\u001b[0;34m(\u001b[0m\u001b[0mdata\u001b[0m\u001b[0;34m)\u001b[0m\u001b[0;34m\u001b[0m\u001b[0;34m\u001b[0m\u001b[0m\n\u001b[1;32m      9\u001b[0m \u001b[0;34m\u001b[0m\u001b[0m\n",
            "\u001b[0;31mTypeError\u001b[0m: 'numpy.float64' object is not callable"
          ]
        }
      ]
    },
    {
      "cell_type": "markdown",
      "source": [
        "Q20write a python program to visualise covariance using heatmap"
      ],
      "metadata": {
        "id": "NCgvpBDCKXfl"
      }
    },
    {
      "cell_type": "code",
      "source": [
        "# prompt: write a python program to visualise covariance using heatmap\n",
        "\n",
        "import pandas as pd\n",
        "import matplotlib.pyplot as plt\n",
        "import seaborn as sns\n",
        "\n",
        "# Assuming you have a DataFrame 'df' with numerical columns\n",
        "# If not, let's create a sample DataFrame for demonstration\n",
        "data_for_heatmap = {\n",
        "    'Feature1': [10, 20, 30, 40, 50],\n",
        "    'Feature2': [5, 15, 25, 35, 45],\n",
        "    'Feature3': [1, 5, 2, 8, 3],\n",
        "    'Feature4': [100, 90, 80, 70, 60]\n",
        "}\n",
        "df_heatmap = pd.DataFrame(data_for_heatmap)\n",
        "\n",
        "# Calculate the covariance matrix\n",
        "covariance_matrix = df_heatmap.cov()\n",
        "\n",
        "# Visualize the covariance matrix using a heatmap\n",
        "plt.figure(figsize=(8, 6))\n",
        "sns.heatmap(covariance_matrix, annot=True, cmap='coolwarm', fmt=\".2f\", linewidths=.5)\n",
        "plt.title('Covariance Heatmap')\n",
        "plt.show()\n",
        "\n"
      ],
      "metadata": {
        "colab": {
          "base_uri": "https://localhost:8080/",
          "height": 545
        },
        "collapsed": true,
        "id": "z2G9pAz1KM2H",
        "outputId": "e829a1ef-c551-4f06-b028-20b088adae9f"
      },
      "execution_count": null,
      "outputs": [
        {
          "output_type": "display_data",
          "data": {
            "text/plain": [
              "<Figure size 800x600 with 2 Axes>"
            ],
            "image/png": "[encoded data removed]"
          },
          "metadata": {}
        }
      ]
    },
    {
      "cell_type": "markdown",
      "source": [
        "Q21 use a seaborn to create a corelation matrix of datasheet"
      ],
      "metadata": {
        "id": "joZTaXMnUHwg"
      }
    },
    {
      "cell_type": "code",
      "source": [
        "# prompt: use a seaborn to create a correlation matrix of datasheet\n",
        "\n",
        "import matplotlib.pyplot as plt\n",
        "# Calculate the correlation matrix\n",
        "correlation_matrix = df_heatmap.corr()\n",
        "\n",
        "# Visualize the correlation matrix using a heatmap\n",
        "plt.figure(figsize=(8, 6))\n",
        "sns.heatmap(correlation_matrix, annot=True, cmap='coolwarm', fmt=\".2f\", linewidths=.5)\n",
        "plt.title('Correlation Matrix Heatmap')\n",
        "plt.show()\n",
        "\n"
      ],
      "metadata": {
        "id": "vXaW64swUR5q"
      },
      "execution_count": null,
      "outputs": []
    },
    {
      "cell_type": "markdown",
      "source": [
        "Q22 generate a datasheet and implement both variance and standard deviations and computations"
      ],
      "metadata": {
        "id": "Niuso9BDUgrY"
      }
    },
    {
      "cell_type": "code",
      "source": [
        "# prompt: generate a datasheet and implement both variance and standard deviations and computations\n",
        "\n",
        "import numpy as np\n",
        "# Sample datasheet (replace with your actual data)\n",
        "data = [15, 25, 35, 45, 55]\n",
        "\n",
        "# Compute variance\n",
        "# Using the previously defined `variance` function:\n",
        "var = variance(data)\n",
        "\n",
        "# Compute standard deviation\n",
        "# Using the previously defined `standard_deviation` function:\n",
        "std_dev = standard_deviation(data)\n",
        "\n",
        "# Print results\n",
        "print(\"Datasheet:\", data)\n",
        "print(\"Variance:\", round(var, 2))\n",
        "print(\"Standard Deviation:\", round(std_dev, 2))\n",
        "\n"
      ],
      "metadata": {
        "id": "DzjaJAKjUt5n"
      },
      "execution_count": null,
      "outputs": []
    },
    {
      "cell_type": "markdown",
      "source": [
        "Q24 implement the pearson and spearman correlation coefficients of datasheet"
      ],
      "metadata": {
        "id": "xInCeLP9U9wv"
      }
    },
    {
      "cell_type": "code",
      "source": [
        "# If you have specific columns you want to correlate, extract them:\n",
        "# dataset1 = df['ColumnName1']\n",
        "# dataset2 = df['ColumnName2']\n",
        "\n",
        "# Using the sample datasets 'dataset1' and 'dataset2' defined previously\n",
        "print(\"\\n--- Pearson Correlation Coefficient ---\")\n",
        "# Using the previously defined `correlation_coefficient` function (which implements Pearson):\n",
        "pearson_corr = correlation_coefficient(dataset1, dataset2)\n",
        "print(f\"Pearson Correlation Coefficient: {pearson_corr:.2f}\")\n",
        "\n",
        "# Using scipy.stats for Pearson correlation\n",
        "pearson_r, pearson_p_value = stats.pearsonr(dataset1, dataset2)\n",
        "print(f\"Pearson r (using scipy): {pearson_r:.2f}\")\n",
        "print(f\"Pearson p-value (using scipy): {pearson_p_value:.4f}\")\n",
        "\n",
        "print(\"\\n--- Spearman Correlation Coefficient ---\")\n",
        "# Using scipy.stats for Spearman correlation\n",
        "spearman_rho, spearman_p_value = stats.spearmanr(dataset1, dataset2)\n",
        "print(f\"Spearman rho (using scipy): {spearman_rho:.2f}\")\n",
        "print(f\"Spearman p-value (using scipy): {spearman_p_value:.4f}\")\n",
        "\n"
      ],
      "metadata": {
        "id": "7GO1y5j_VM73"
      },
      "execution_count": null,
      "outputs": []
    }
  ]
}